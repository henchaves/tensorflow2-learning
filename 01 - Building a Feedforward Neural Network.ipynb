{
 "cells": [
  {
   "cell_type": "code",
   "execution_count": 16,
   "metadata": {},
   "outputs": [],
   "source": [
    "import tensorflow as tf\n",
    "import numpy as np\n",
    "import datetime\n",
    "from tensorflow.keras.datasets import fashion_mnist\n",
    "import matplotlib.pyplot as plt"
   ]
  },
  {
   "cell_type": "code",
   "execution_count": 2,
   "metadata": {},
   "outputs": [
    {
     "data": {
      "text/plain": [
       "'2.2.0'"
      ]
     },
     "execution_count": 2,
     "metadata": {},
     "output_type": "execute_result"
    }
   ],
   "source": [
    "tf.__version__"
   ]
  },
  {
   "cell_type": "code",
   "execution_count": 3,
   "metadata": {},
   "outputs": [
    {
     "name": "stdout",
     "output_type": "stream",
     "text": [
      "Downloading data from https://storage.googleapis.com/tensorflow/tf-keras-datasets/train-labels-idx1-ubyte.gz\n",
      "32768/29515 [=================================] - 0s 0us/step\n",
      "Downloading data from https://storage.googleapis.com/tensorflow/tf-keras-datasets/train-images-idx3-ubyte.gz\n",
      "26427392/26421880 [==============================] - 8s 0us/step\n",
      "Downloading data from https://storage.googleapis.com/tensorflow/tf-keras-datasets/t10k-labels-idx1-ubyte.gz\n",
      "8192/5148 [===============================================] - 0s 0us/step\n",
      "Downloading data from https://storage.googleapis.com/tensorflow/tf-keras-datasets/t10k-images-idx3-ubyte.gz\n",
      "4423680/4422102 [==============================] - 1s 0us/step\n"
     ]
    }
   ],
   "source": [
    "(X_train, y_train), (X_test, y_test) = fashion_mnist.load_data()"
   ]
  },
  {
   "cell_type": "code",
   "execution_count": 6,
   "metadata": {},
   "outputs": [
    {
     "data": {
      "text/plain": [
       "array([[  0,   0,   0,   0,   0,   0,   0,   0,   0,   0,   0,   0,   0,\n",
       "          0,   0,   0,   0,   0,   0,   0,   0,   0,   0,   0,   0,   0,\n",
       "          0,   0],\n",
       "       [  0,   0,   0,   0,   0,   0,   0,   0,   0,   0,   0,   0,   0,\n",
       "          0,   0,   0,   0,   0,   0,   0,   0,   0,   0,   0,   0,   0,\n",
       "          0,   0],\n",
       "       [  0,   0,   0,   0,   0,   0,   0,   0,   0,   0,   0,   0,   0,\n",
       "          0,   0,   0,   0,   0,   0,   0,   0,   0,   0,   0,   0,   0,\n",
       "          0,   0],\n",
       "       [  0,   0,   0,   0,   0,   0,   0,   0,   0,   0,   0,   0,   1,\n",
       "          0,   0,  13,  73,   0,   0,   1,   4,   0,   0,   0,   0,   1,\n",
       "          1,   0],\n",
       "       [  0,   0,   0,   0,   0,   0,   0,   0,   0,   0,   0,   0,   3,\n",
       "          0,  36, 136, 127,  62,  54,   0,   0,   0,   1,   3,   4,   0,\n",
       "          0,   3],\n",
       "       [  0,   0,   0,   0,   0,   0,   0,   0,   0,   0,   0,   0,   6,\n",
       "          0, 102, 204, 176, 134, 144, 123,  23,   0,   0,   0,   0,  12,\n",
       "         10,   0],\n",
       "       [  0,   0,   0,   0,   0,   0,   0,   0,   0,   0,   0,   0,   0,\n",
       "          0, 155, 236, 207, 178, 107, 156, 161, 109,  64,  23,  77, 130,\n",
       "         72,  15],\n",
       "       [  0,   0,   0,   0,   0,   0,   0,   0,   0,   0,   0,   1,   0,\n",
       "         69, 207, 223, 218, 216, 216, 163, 127, 121, 122, 146, 141,  88,\n",
       "        172,  66],\n",
       "       [  0,   0,   0,   0,   0,   0,   0,   0,   0,   1,   1,   1,   0,\n",
       "        200, 232, 232, 233, 229, 223, 223, 215, 213, 164, 127, 123, 196,\n",
       "        229,   0],\n",
       "       [  0,   0,   0,   0,   0,   0,   0,   0,   0,   0,   0,   0,   0,\n",
       "        183, 225, 216, 223, 228, 235, 227, 224, 222, 224, 221, 223, 245,\n",
       "        173,   0],\n",
       "       [  0,   0,   0,   0,   0,   0,   0,   0,   0,   0,   0,   0,   0,\n",
       "        193, 228, 218, 213, 198, 180, 212, 210, 211, 213, 223, 220, 243,\n",
       "        202,   0],\n",
       "       [  0,   0,   0,   0,   0,   0,   0,   0,   0,   1,   3,   0,  12,\n",
       "        219, 220, 212, 218, 192, 169, 227, 208, 218, 224, 212, 226, 197,\n",
       "        209,  52],\n",
       "       [  0,   0,   0,   0,   0,   0,   0,   0,   0,   0,   6,   0,  99,\n",
       "        244, 222, 220, 218, 203, 198, 221, 215, 213, 222, 220, 245, 119,\n",
       "        167,  56],\n",
       "       [  0,   0,   0,   0,   0,   0,   0,   0,   0,   4,   0,   0,  55,\n",
       "        236, 228, 230, 228, 240, 232, 213, 218, 223, 234, 217, 217, 209,\n",
       "         92,   0],\n",
       "       [  0,   0,   1,   4,   6,   7,   2,   0,   0,   0,   0,   0, 237,\n",
       "        226, 217, 223, 222, 219, 222, 221, 216, 223, 229, 215, 218, 255,\n",
       "         77,   0],\n",
       "       [  0,   3,   0,   0,   0,   0,   0,   0,   0,  62, 145, 204, 228,\n",
       "        207, 213, 221, 218, 208, 211, 218, 224, 223, 219, 215, 224, 244,\n",
       "        159,   0],\n",
       "       [  0,   0,   0,   0,  18,  44,  82, 107, 189, 228, 220, 222, 217,\n",
       "        226, 200, 205, 211, 230, 224, 234, 176, 188, 250, 248, 233, 238,\n",
       "        215,   0],\n",
       "       [  0,  57, 187, 208, 224, 221, 224, 208, 204, 214, 208, 209, 200,\n",
       "        159, 245, 193, 206, 223, 255, 255, 221, 234, 221, 211, 220, 232,\n",
       "        246,   0],\n",
       "       [  3, 202, 228, 224, 221, 211, 211, 214, 205, 205, 205, 220, 240,\n",
       "         80, 150, 255, 229, 221, 188, 154, 191, 210, 204, 209, 222, 228,\n",
       "        225,   0],\n",
       "       [ 98, 233, 198, 210, 222, 229, 229, 234, 249, 220, 194, 215, 217,\n",
       "        241,  65,  73, 106, 117, 168, 219, 221, 215, 217, 223, 223, 224,\n",
       "        229,  29],\n",
       "       [ 75, 204, 212, 204, 193, 205, 211, 225, 216, 185, 197, 206, 198,\n",
       "        213, 240, 195, 227, 245, 239, 223, 218, 212, 209, 222, 220, 221,\n",
       "        230,  67],\n",
       "       [ 48, 203, 183, 194, 213, 197, 185, 190, 194, 192, 202, 214, 219,\n",
       "        221, 220, 236, 225, 216, 199, 206, 186, 181, 177, 172, 181, 205,\n",
       "        206, 115],\n",
       "       [  0, 122, 219, 193, 179, 171, 183, 196, 204, 210, 213, 207, 211,\n",
       "        210, 200, 196, 194, 191, 195, 191, 198, 192, 176, 156, 167, 177,\n",
       "        210,  92],\n",
       "       [  0,   0,  74, 189, 212, 191, 175, 172, 175, 181, 185, 188, 189,\n",
       "        188, 193, 198, 204, 209, 210, 210, 211, 188, 188, 194, 192, 216,\n",
       "        170,   0],\n",
       "       [  2,   0,   0,   0,  66, 200, 222, 237, 239, 242, 246, 243, 244,\n",
       "        221, 220, 193, 191, 179, 182, 182, 181, 176, 166, 168,  99,  58,\n",
       "          0,   0],\n",
       "       [  0,   0,   0,   0,   0,   0,   0,  40,  61,  44,  72,  41,  35,\n",
       "          0,   0,   0,   0,   0,   0,   0,   0,   0,   0,   0,   0,   0,\n",
       "          0,   0],\n",
       "       [  0,   0,   0,   0,   0,   0,   0,   0,   0,   0,   0,   0,   0,\n",
       "          0,   0,   0,   0,   0,   0,   0,   0,   0,   0,   0,   0,   0,\n",
       "          0,   0],\n",
       "       [  0,   0,   0,   0,   0,   0,   0,   0,   0,   0,   0,   0,   0,\n",
       "          0,   0,   0,   0,   0,   0,   0,   0,   0,   0,   0,   0,   0,\n",
       "          0,   0]], dtype=uint8)"
      ]
     },
     "execution_count": 6,
     "metadata": {},
     "output_type": "execute_result"
    }
   ],
   "source": [
    "X_train[0]"
   ]
  },
  {
   "cell_type": "code",
   "execution_count": 15,
   "metadata": {},
   "outputs": [
    {
     "data": {
      "text/plain": [
       "<matplotlib.image.AxesImage at 0x2282e4215e0>"
      ]
     },
     "execution_count": 15,
     "metadata": {},
     "output_type": "execute_result"
    },
    {
     "data": {
      "image/png": "[encoded data removed]",
      "text/plain": [
       "<Figure size 432x288 with 1 Axes>"
      ]
     },
     "metadata": {
      "needs_background": "light"
     },
     "output_type": "display_data"
    }
   ],
   "source": [
    "plt.imshow(X_train[0], cmap=\"gray\")"
   ]
  },
  {
   "cell_type": "code",
   "execution_count": 8,
   "metadata": {},
   "outputs": [
    {
     "data": {
      "text/plain": [
       "9"
      ]
     },
     "execution_count": 8,
     "metadata": {},
     "output_type": "execute_result"
    }
   ],
   "source": [
    "y_train[0]"
   ]
  },
  {
   "cell_type": "code",
   "execution_count": 17,
   "metadata": {},
   "outputs": [],
   "source": [
    "#Normalizing\n",
    "X_train = X_train/255\n",
    "X_test = X_test/255"
   ]
  },
  {
   "cell_type": "code",
   "execution_count": 21,
   "metadata": {},
   "outputs": [
    {
     "data": {
      "text/plain": [
       "array([[0.        , 0.        , 0.        , 0.        , 0.        ,\n",
       "        0.        , 0.        , 0.        , 0.        , 0.        ,\n",
       "        0.        , 0.        , 0.        , 0.        , 0.        ,\n",
       "        0.        , 0.        , 0.        , 0.        , 0.        ,\n",
       "        0.        , 0.        , 0.        , 0.        , 0.        ,\n",
       "        0.        , 0.        , 0.        ],\n",
       "       [0.        , 0.        , 0.        , 0.        , 0.        ,\n",
       "        0.        , 0.        , 0.        , 0.        , 0.        ,\n",
       "        0.        , 0.        , 0.        , 0.        , 0.        ,\n",
       "        0.        , 0.        , 0.        , 0.        , 0.        ,\n",
       "        0.        , 0.        , 0.        , 0.        , 0.        ,\n",
       "        0.        , 0.        , 0.        ],\n",
       "       [0.        , 0.        , 0.        , 0.        , 0.        ,\n",
       "        0.        , 0.        , 0.        , 0.        , 0.        ,\n",
       "        0.        , 0.        , 0.        , 0.        , 0.        ,\n",
       "        0.        , 0.        , 0.        , 0.        , 0.        ,\n",
       "        0.        , 0.        , 0.        , 0.        , 0.        ,\n",
       "        0.        , 0.        , 0.        ],\n",
       "       [0.        , 0.        , 0.        , 0.        , 0.        ,\n",
       "        0.        , 0.        , 0.        , 0.        , 0.        ,\n",
       "        0.        , 0.        , 0.00392157, 0.        , 0.        ,\n",
       "        0.05098039, 0.28627451, 0.        , 0.        , 0.00392157,\n",
       "        0.01568627, 0.        , 0.        , 0.        , 0.        ,\n",
       "        0.00392157, 0.00392157, 0.        ],\n",
       "       [0.        , 0.        , 0.        , 0.        , 0.        ,\n",
       "        0.        , 0.        , 0.        , 0.        , 0.        ,\n",
       "        0.        , 0.        , 0.01176471, 0.        , 0.14117647,\n",
       "        0.53333333, 0.49803922, 0.24313725, 0.21176471, 0.        ,\n",
       "        0.        , 0.        , 0.00392157, 0.01176471, 0.01568627,\n",
       "        0.        , 0.        , 0.01176471],\n",
       "       [0.        , 0.        , 0.        , 0.        , 0.        ,\n",
       "        0.        , 0.        , 0.        , 0.        , 0.        ,\n",
       "        0.        , 0.        , 0.02352941, 0.        , 0.4       ,\n",
       "        0.8       , 0.69019608, 0.5254902 , 0.56470588, 0.48235294,\n",
       "        0.09019608, 0.        , 0.        , 0.        , 0.        ,\n",
       "        0.04705882, 0.03921569, 0.        ],\n",
       "       [0.        , 0.        , 0.        , 0.        , 0.        ,\n",
       "        0.        , 0.        , 0.        , 0.        , 0.        ,\n",
       "        0.        , 0.        , 0.        , 0.        , 0.60784314,\n",
       "        0.9254902 , 0.81176471, 0.69803922, 0.41960784, 0.61176471,\n",
       "        0.63137255, 0.42745098, 0.25098039, 0.09019608, 0.30196078,\n",
       "        0.50980392, 0.28235294, 0.05882353],\n",
       "       [0.        , 0.        , 0.        , 0.        , 0.        ,\n",
       "        0.        , 0.        , 0.        , 0.        , 0.        ,\n",
       "        0.        , 0.00392157, 0.        , 0.27058824, 0.81176471,\n",
       "        0.8745098 , 0.85490196, 0.84705882, 0.84705882, 0.63921569,\n",
       "        0.49803922, 0.4745098 , 0.47843137, 0.57254902, 0.55294118,\n",
       "        0.34509804, 0.6745098 , 0.25882353],\n",
       "       [0.        , 0.        , 0.        , 0.        , 0.        ,\n",
       "        0.        , 0.        , 0.        , 0.        , 0.00392157,\n",
       "        0.00392157, 0.00392157, 0.        , 0.78431373, 0.90980392,\n",
       "        0.90980392, 0.91372549, 0.89803922, 0.8745098 , 0.8745098 ,\n",
       "        0.84313725, 0.83529412, 0.64313725, 0.49803922, 0.48235294,\n",
       "        0.76862745, 0.89803922, 0.        ],\n",
       "       [0.        , 0.        , 0.        , 0.        , 0.        ,\n",
       "        0.        , 0.        , 0.        , 0.        , 0.        ,\n",
       "        0.        , 0.        , 0.        , 0.71764706, 0.88235294,\n",
       "        0.84705882, 0.8745098 , 0.89411765, 0.92156863, 0.89019608,\n",
       "        0.87843137, 0.87058824, 0.87843137, 0.86666667, 0.8745098 ,\n",
       "        0.96078431, 0.67843137, 0.        ],\n",
       "       [0.        , 0.        , 0.        , 0.        , 0.        ,\n",
       "        0.        , 0.        , 0.        , 0.        , 0.        ,\n",
       "        0.        , 0.        , 0.        , 0.75686275, 0.89411765,\n",
       "        0.85490196, 0.83529412, 0.77647059, 0.70588235, 0.83137255,\n",
       "        0.82352941, 0.82745098, 0.83529412, 0.8745098 , 0.8627451 ,\n",
       "        0.95294118, 0.79215686, 0.        ],\n",
       "       [0.        , 0.        , 0.        , 0.        , 0.        ,\n",
       "        0.        , 0.        , 0.        , 0.        , 0.00392157,\n",
       "        0.01176471, 0.        , 0.04705882, 0.85882353, 0.8627451 ,\n",
       "        0.83137255, 0.85490196, 0.75294118, 0.6627451 , 0.89019608,\n",
       "        0.81568627, 0.85490196, 0.87843137, 0.83137255, 0.88627451,\n",
       "        0.77254902, 0.81960784, 0.20392157],\n",
       "       [0.        , 0.        , 0.        , 0.        , 0.        ,\n",
       "        0.        , 0.        , 0.        , 0.        , 0.        ,\n",
       "        0.02352941, 0.        , 0.38823529, 0.95686275, 0.87058824,\n",
       "        0.8627451 , 0.85490196, 0.79607843, 0.77647059, 0.86666667,\n",
       "        0.84313725, 0.83529412, 0.87058824, 0.8627451 , 0.96078431,\n",
       "        0.46666667, 0.65490196, 0.21960784],\n",
       "       [0.        , 0.        , 0.        , 0.        , 0.        ,\n",
       "        0.        , 0.        , 0.        , 0.        , 0.01568627,\n",
       "        0.        , 0.        , 0.21568627, 0.9254902 , 0.89411765,\n",
       "        0.90196078, 0.89411765, 0.94117647, 0.90980392, 0.83529412,\n",
       "        0.85490196, 0.8745098 , 0.91764706, 0.85098039, 0.85098039,\n",
       "        0.81960784, 0.36078431, 0.        ],\n",
       "       [0.        , 0.        , 0.00392157, 0.01568627, 0.02352941,\n",
       "        0.02745098, 0.00784314, 0.        , 0.        , 0.        ,\n",
       "        0.        , 0.        , 0.92941176, 0.88627451, 0.85098039,\n",
       "        0.8745098 , 0.87058824, 0.85882353, 0.87058824, 0.86666667,\n",
       "        0.84705882, 0.8745098 , 0.89803922, 0.84313725, 0.85490196,\n",
       "        1.        , 0.30196078, 0.        ],\n",
       "       [0.        , 0.01176471, 0.        , 0.        , 0.        ,\n",
       "        0.        , 0.        , 0.        , 0.        , 0.24313725,\n",
       "        0.56862745, 0.8       , 0.89411765, 0.81176471, 0.83529412,\n",
       "        0.86666667, 0.85490196, 0.81568627, 0.82745098, 0.85490196,\n",
       "        0.87843137, 0.8745098 , 0.85882353, 0.84313725, 0.87843137,\n",
       "        0.95686275, 0.62352941, 0.        ],\n",
       "       [0.        , 0.        , 0.        , 0.        , 0.07058824,\n",
       "        0.17254902, 0.32156863, 0.41960784, 0.74117647, 0.89411765,\n",
       "        0.8627451 , 0.87058824, 0.85098039, 0.88627451, 0.78431373,\n",
       "        0.80392157, 0.82745098, 0.90196078, 0.87843137, 0.91764706,\n",
       "        0.69019608, 0.7372549 , 0.98039216, 0.97254902, 0.91372549,\n",
       "        0.93333333, 0.84313725, 0.        ],\n",
       "       [0.        , 0.22352941, 0.73333333, 0.81568627, 0.87843137,\n",
       "        0.86666667, 0.87843137, 0.81568627, 0.8       , 0.83921569,\n",
       "        0.81568627, 0.81960784, 0.78431373, 0.62352941, 0.96078431,\n",
       "        0.75686275, 0.80784314, 0.8745098 , 1.        , 1.        ,\n",
       "        0.86666667, 0.91764706, 0.86666667, 0.82745098, 0.8627451 ,\n",
       "        0.90980392, 0.96470588, 0.        ],\n",
       "       [0.01176471, 0.79215686, 0.89411765, 0.87843137, 0.86666667,\n",
       "        0.82745098, 0.82745098, 0.83921569, 0.80392157, 0.80392157,\n",
       "        0.80392157, 0.8627451 , 0.94117647, 0.31372549, 0.58823529,\n",
       "        1.        , 0.89803922, 0.86666667, 0.7372549 , 0.60392157,\n",
       "        0.74901961, 0.82352941, 0.8       , 0.81960784, 0.87058824,\n",
       "        0.89411765, 0.88235294, 0.        ],\n",
       "       [0.38431373, 0.91372549, 0.77647059, 0.82352941, 0.87058824,\n",
       "        0.89803922, 0.89803922, 0.91764706, 0.97647059, 0.8627451 ,\n",
       "        0.76078431, 0.84313725, 0.85098039, 0.94509804, 0.25490196,\n",
       "        0.28627451, 0.41568627, 0.45882353, 0.65882353, 0.85882353,\n",
       "        0.86666667, 0.84313725, 0.85098039, 0.8745098 , 0.8745098 ,\n",
       "        0.87843137, 0.89803922, 0.11372549],\n",
       "       [0.29411765, 0.8       , 0.83137255, 0.8       , 0.75686275,\n",
       "        0.80392157, 0.82745098, 0.88235294, 0.84705882, 0.7254902 ,\n",
       "        0.77254902, 0.80784314, 0.77647059, 0.83529412, 0.94117647,\n",
       "        0.76470588, 0.89019608, 0.96078431, 0.9372549 , 0.8745098 ,\n",
       "        0.85490196, 0.83137255, 0.81960784, 0.87058824, 0.8627451 ,\n",
       "        0.86666667, 0.90196078, 0.2627451 ],\n",
       "       [0.18823529, 0.79607843, 0.71764706, 0.76078431, 0.83529412,\n",
       "        0.77254902, 0.7254902 , 0.74509804, 0.76078431, 0.75294118,\n",
       "        0.79215686, 0.83921569, 0.85882353, 0.86666667, 0.8627451 ,\n",
       "        0.9254902 , 0.88235294, 0.84705882, 0.78039216, 0.80784314,\n",
       "        0.72941176, 0.70980392, 0.69411765, 0.6745098 , 0.70980392,\n",
       "        0.80392157, 0.80784314, 0.45098039],\n",
       "       [0.        , 0.47843137, 0.85882353, 0.75686275, 0.70196078,\n",
       "        0.67058824, 0.71764706, 0.76862745, 0.8       , 0.82352941,\n",
       "        0.83529412, 0.81176471, 0.82745098, 0.82352941, 0.78431373,\n",
       "        0.76862745, 0.76078431, 0.74901961, 0.76470588, 0.74901961,\n",
       "        0.77647059, 0.75294118, 0.69019608, 0.61176471, 0.65490196,\n",
       "        0.69411765, 0.82352941, 0.36078431],\n",
       "       [0.        , 0.        , 0.29019608, 0.74117647, 0.83137255,\n",
       "        0.74901961, 0.68627451, 0.6745098 , 0.68627451, 0.70980392,\n",
       "        0.7254902 , 0.7372549 , 0.74117647, 0.7372549 , 0.75686275,\n",
       "        0.77647059, 0.8       , 0.81960784, 0.82352941, 0.82352941,\n",
       "        0.82745098, 0.7372549 , 0.7372549 , 0.76078431, 0.75294118,\n",
       "        0.84705882, 0.66666667, 0.        ],\n",
       "       [0.00784314, 0.        , 0.        , 0.        , 0.25882353,\n",
       "        0.78431373, 0.87058824, 0.92941176, 0.9372549 , 0.94901961,\n",
       "        0.96470588, 0.95294118, 0.95686275, 0.86666667, 0.8627451 ,\n",
       "        0.75686275, 0.74901961, 0.70196078, 0.71372549, 0.71372549,\n",
       "        0.70980392, 0.69019608, 0.65098039, 0.65882353, 0.38823529,\n",
       "        0.22745098, 0.        , 0.        ],\n",
       "       [0.        , 0.        , 0.        , 0.        , 0.        ,\n",
       "        0.        , 0.        , 0.15686275, 0.23921569, 0.17254902,\n",
       "        0.28235294, 0.16078431, 0.1372549 , 0.        , 0.        ,\n",
       "        0.        , 0.        , 0.        , 0.        , 0.        ,\n",
       "        0.        , 0.        , 0.        , 0.        , 0.        ,\n",
       "        0.        , 0.        , 0.        ],\n",
       "       [0.        , 0.        , 0.        , 0.        , 0.        ,\n",
       "        0.        , 0.        , 0.        , 0.        , 0.        ,\n",
       "        0.        , 0.        , 0.        , 0.        , 0.        ,\n",
       "        0.        , 0.        , 0.        , 0.        , 0.        ,\n",
       "        0.        , 0.        , 0.        , 0.        , 0.        ,\n",
       "        0.        , 0.        , 0.        ],\n",
       "       [0.        , 0.        , 0.        , 0.        , 0.        ,\n",
       "        0.        , 0.        , 0.        , 0.        , 0.        ,\n",
       "        0.        , 0.        , 0.        , 0.        , 0.        ,\n",
       "        0.        , 0.        , 0.        , 0.        , 0.        ,\n",
       "        0.        , 0.        , 0.        , 0.        , 0.        ,\n",
       "        0.        , 0.        , 0.        ]])"
      ]
     },
     "execution_count": 21,
     "metadata": {},
     "output_type": "execute_result"
    }
   ],
   "source": [
    "X_train[0]"
   ]
  },
  {
   "cell_type": "code",
   "execution_count": 22,
   "metadata": {},
   "outputs": [
    {
     "data": {
      "text/plain": [
       "(60000, 28, 28)"
      ]
     },
     "execution_count": 22,
     "metadata": {},
     "output_type": "execute_result"
    }
   ],
   "source": [
    "X_train.shape"
   ]
  },
  {
   "cell_type": "code",
   "execution_count": 23,
   "metadata": {},
   "outputs": [],
   "source": [
    "#Flatten\n",
    "X_train = X_train.reshape(-1, X_train.shape[1] * X_train.shape[2])"
   ]
  },
  {
   "cell_type": "code",
   "execution_count": 24,
   "metadata": {},
   "outputs": [
    {
     "data": {
      "text/plain": [
       "(60000, 784)"
      ]
     },
     "execution_count": 24,
     "metadata": {},
     "output_type": "execute_result"
    }
   ],
   "source": [
    "X_train.shape"
   ]
  },
  {
   "cell_type": "code",
   "execution_count": 25,
   "metadata": {},
   "outputs": [],
   "source": [
    "X_test = X_test.reshape(-1, X_test.shape[1] * X_test.shape[2])"
   ]
  },
  {
   "cell_type": "code",
   "execution_count": 62,
   "metadata": {},
   "outputs": [
    {
     "name": "stdout",
     "output_type": "stream",
     "text": [
      "Model: \"sequential_5\"\n",
      "_________________________________________________________________\n",
      "Layer (type)                 Output Shape              Param #   \n",
      "=================================================================\n",
      "dense_8 (Dense)              (None, 128)               100480    \n",
      "_________________________________________________________________\n",
      "dropout_4 (Dropout)          (None, 128)               0         \n",
      "_________________________________________________________________\n",
      "dense_9 (Dense)              (None, 128)               16512     \n",
      "_________________________________________________________________\n",
      "dropout_5 (Dropout)          (None, 128)               0         \n",
      "_________________________________________________________________\n",
      "dense_10 (Dense)             (None, 10)                1290      \n",
      "=================================================================\n",
      "Total params: 118,282\n",
      "Trainable params: 118,282\n",
      "Non-trainable params: 0\n",
      "_________________________________________________________________\n"
     ]
    }
   ],
   "source": [
    "#Model\n",
    "from tensorflow.keras.models import Sequential\n",
    "from tensorflow.keras.layers import Dense, Dropout\n",
    "\n",
    "model = Sequential()\n",
    "model.add(Dense(units=128, activation='relu', input_shape=(X_train.shape[1], )))\n",
    "model.add(Dropout(0.2))\n",
    "model.add(Dense(units=128, activation='relu'))\n",
    "model.add(Dropout(0.2))\n",
    "model.add(Dense(units=np.unique(y_train).shape[0], activation=\"softmax\"))\n",
    "model.compile(optimizer=\"adam\", loss=\"sparse_categorical_crossentropy\", metrics=[\"sparse_categorical_accuracy\"])\n",
    "model.summary()"
   ]
  },
  {
   "cell_type": "code",
   "execution_count": 63,
   "metadata": {
    "scrolled": true
   },
   "outputs": [
    {
     "name": "stdout",
     "output_type": "stream",
     "text": [
      "Epoch 1/100\n",
      "1875/1875 [==============================] - 2s 858us/step - loss: 0.5571 - sparse_categorical_accuracy: 0.8001\n",
      "Epoch 2/100\n",
      "1875/1875 [==============================] - 2s 883us/step - loss: 0.4164 - sparse_categorical_accuracy: 0.8483\n",
      "Epoch 3/100\n",
      "1875/1875 [==============================] - 2s 852us/step - loss: 0.3821 - sparse_categorical_accuracy: 0.8601\n",
      "Epoch 4/100\n",
      "1875/1875 [==============================] - 2s 858us/step - loss: 0.3589 - sparse_categorical_accuracy: 0.8673\n",
      "Epoch 5/100\n",
      "1875/1875 [==============================] - 2s 846us/step - loss: 0.3436 - sparse_categorical_accuracy: 0.8725\n",
      "Epoch 6/100\n",
      "1875/1875 [==============================] - 2s 849us/step - loss: 0.3308 - sparse_categorical_accuracy: 0.8781\n",
      "Epoch 7/100\n",
      "1875/1875 [==============================] - 2s 855us/step - loss: 0.3225 - sparse_categorical_accuracy: 0.8799\n",
      "Epoch 8/100\n",
      "1875/1875 [==============================] - 2s 845us/step - loss: 0.3126 - sparse_categorical_accuracy: 0.8849\n",
      "Epoch 9/100\n",
      "1875/1875 [==============================] - 2s 845us/step - loss: 0.3068 - sparse_categorical_accuracy: 0.8858\n",
      "Epoch 10/100\n",
      "1875/1875 [==============================] - 2s 843us/step - loss: 0.2996 - sparse_categorical_accuracy: 0.8893\n",
      "Epoch 11/100\n",
      "1875/1875 [==============================] - 2s 839us/step - loss: 0.2945 - sparse_categorical_accuracy: 0.8903\n",
      "Epoch 12/100\n",
      "1875/1875 [==============================] - 2s 843us/step - loss: 0.2890 - sparse_categorical_accuracy: 0.8918\n",
      "Epoch 13/100\n",
      "1875/1875 [==============================] - 2s 860us/step - loss: 0.2859 - sparse_categorical_accuracy: 0.8933\n",
      "Epoch 14/100\n",
      "1875/1875 [==============================] - 2s 847us/step - loss: 0.2776 - sparse_categorical_accuracy: 0.8953\n",
      "Epoch 15/100\n",
      "1875/1875 [==============================] - 2s 844us/step - loss: 0.2763 - sparse_categorical_accuracy: 0.8953\n",
      "Epoch 16/100\n",
      "1875/1875 [==============================] - 2s 846us/step - loss: 0.2724 - sparse_categorical_accuracy: 0.8976\n",
      "Epoch 17/100\n",
      "1875/1875 [==============================] - 2s 884us/step - loss: 0.2673 - sparse_categorical_accuracy: 0.8982\n",
      "Epoch 18/100\n",
      "1875/1875 [==============================] - 2s 887us/step - loss: 0.2656 - sparse_categorical_accuracy: 0.8988\n",
      "Epoch 19/100\n",
      "1875/1875 [==============================] - 2s 992us/step - loss: 0.2616 - sparse_categorical_accuracy: 0.9016\n",
      "Epoch 20/100\n",
      "1875/1875 [==============================] - 2s 875us/step - loss: 0.2591 - sparse_categorical_accuracy: 0.9015\n",
      "Epoch 21/100\n",
      "1875/1875 [==============================] - 2s 875us/step - loss: 0.2541 - sparse_categorical_accuracy: 0.9032\n",
      "Epoch 22/100\n",
      "1875/1875 [==============================] - 2s 871us/step - loss: 0.2544 - sparse_categorical_accuracy: 0.9037\n",
      "Epoch 23/100\n",
      "1875/1875 [==============================] - 2s 870us/step - loss: 0.2482 - sparse_categorical_accuracy: 0.9061\n",
      "Epoch 24/100\n",
      "1875/1875 [==============================] - 2s 915us/step - loss: 0.2472 - sparse_categorical_accuracy: 0.9069\n",
      "Epoch 25/100\n",
      "1875/1875 [==============================] - 2s 935us/step - loss: 0.2482 - sparse_categorical_accuracy: 0.9060\n",
      "Epoch 26/100\n",
      "1875/1875 [==============================] - 2s 938us/step - loss: 0.2447 - sparse_categorical_accuracy: 0.9085\n",
      "Epoch 27/100\n",
      "1875/1875 [==============================] - 2s 877us/step - loss: 0.2408 - sparse_categorical_accuracy: 0.9084\n",
      "Epoch 28/100\n",
      "1875/1875 [==============================] - 2s 854us/step - loss: 0.2403 - sparse_categorical_accuracy: 0.9098\n",
      "Epoch 29/100\n",
      "1875/1875 [==============================] - 2s 867us/step - loss: 0.2351 - sparse_categorical_accuracy: 0.9110\n",
      "Epoch 30/100\n",
      "1875/1875 [==============================] - 2s 860us/step - loss: 0.2312 - sparse_categorical_accuracy: 0.9118\n",
      "Epoch 31/100\n",
      "1875/1875 [==============================] - 2s 889us/step - loss: 0.2315 - sparse_categorical_accuracy: 0.9122\n",
      "Epoch 32/100\n",
      "1875/1875 [==============================] - 2s 927us/step - loss: 0.2292 - sparse_categorical_accuracy: 0.9127\n",
      "Epoch 33/100\n",
      "1875/1875 [==============================] - 2s 914us/step - loss: 0.2277 - sparse_categorical_accuracy: 0.9136\n",
      "Epoch 34/100\n",
      "1875/1875 [==============================] - 2s 879us/step - loss: 0.2290 - sparse_categorical_accuracy: 0.9136\n",
      "Epoch 35/100\n",
      "1875/1875 [==============================] - 2s 870us/step - loss: 0.2249 - sparse_categorical_accuracy: 0.9150\n",
      "Epoch 36/100\n",
      "1875/1875 [==============================] - 2s 860us/step - loss: 0.2257 - sparse_categorical_accuracy: 0.9143\n",
      "Epoch 37/100\n",
      "1875/1875 [==============================] - 2s 889us/step - loss: 0.2196 - sparse_categorical_accuracy: 0.9172\n",
      "Epoch 38/100\n",
      "1875/1875 [==============================] - 2s 866us/step - loss: 0.2227 - sparse_categorical_accuracy: 0.9160\n",
      "Epoch 39/100\n",
      "1875/1875 [==============================] - 2s 859us/step - loss: 0.2213 - sparse_categorical_accuracy: 0.9161\n",
      "Epoch 40/100\n",
      "1875/1875 [==============================] - 2s 852us/step - loss: 0.2170 - sparse_categorical_accuracy: 0.9179\n",
      "Epoch 41/100\n",
      "1875/1875 [==============================] - 2s 847us/step - loss: 0.2179 - sparse_categorical_accuracy: 0.9168\n",
      "Epoch 42/100\n",
      "1875/1875 [==============================] - 2s 843us/step - loss: 0.2151 - sparse_categorical_accuracy: 0.9186\n",
      "Epoch 43/100\n",
      "1875/1875 [==============================] - 2s 844us/step - loss: 0.2129 - sparse_categorical_accuracy: 0.9182\n",
      "Epoch 44/100\n",
      "1875/1875 [==============================] - 2s 851us/step - loss: 0.2123 - sparse_categorical_accuracy: 0.9194\n",
      "Epoch 45/100\n",
      "1875/1875 [==============================] - 2s 845us/step - loss: 0.2114 - sparse_categorical_accuracy: 0.9186\n",
      "Epoch 46/100\n",
      "1875/1875 [==============================] - 2s 854us/step - loss: 0.2093 - sparse_categorical_accuracy: 0.9198\n",
      "Epoch 47/100\n",
      "1875/1875 [==============================] - 2s 887us/step - loss: 0.2075 - sparse_categorical_accuracy: 0.9206\n",
      "Epoch 48/100\n",
      "1875/1875 [==============================] - 2s 898us/step - loss: 0.2075 - sparse_categorical_accuracy: 0.9203\n",
      "Epoch 49/100\n",
      "1875/1875 [==============================] - 2s 908us/step - loss: 0.2070 - sparse_categorical_accuracy: 0.9217\n",
      "Epoch 50/100\n",
      "1875/1875 [==============================] - 2s 853us/step - loss: 0.2033 - sparse_categorical_accuracy: 0.9229\n",
      "Epoch 51/100\n",
      "1875/1875 [==============================] - 2s 847us/step - loss: 0.2065 - sparse_categorical_accuracy: 0.9227\n",
      "Epoch 52/100\n",
      "1875/1875 [==============================] - 2s 860us/step - loss: 0.2045 - sparse_categorical_accuracy: 0.9221\n",
      "Epoch 53/100\n",
      "1875/1875 [==============================] - 2s 879us/step - loss: 0.2002 - sparse_categorical_accuracy: 0.9239\n",
      "Epoch 54/100\n",
      "1875/1875 [==============================] - 2s 909us/step - loss: 0.2034 - sparse_categorical_accuracy: 0.9236\n",
      "Epoch 55/100\n",
      "1875/1875 [==============================] - 2s 892us/step - loss: 0.2033 - sparse_categorical_accuracy: 0.9234\n",
      "Epoch 56/100\n",
      "1875/1875 [==============================] - 2s 889us/step - loss: 0.2001 - sparse_categorical_accuracy: 0.9243\n",
      "Epoch 57/100\n",
      "1875/1875 [==============================] - 2s 909us/step - loss: 0.1980 - sparse_categorical_accuracy: 0.9253\n",
      "Epoch 58/100\n",
      "1875/1875 [==============================] - 2s 901us/step - loss: 0.1979 - sparse_categorical_accuracy: 0.9240\n",
      "Epoch 59/100\n",
      "1875/1875 [==============================] - 2s 899us/step - loss: 0.1964 - sparse_categorical_accuracy: 0.9258\n",
      "Epoch 60/100\n",
      "1875/1875 [==============================] - 2s 884us/step - loss: 0.1985 - sparse_categorical_accuracy: 0.9252\n",
      "Epoch 61/100\n",
      "1875/1875 [==============================] - 2s 907us/step - loss: 0.1970 - sparse_categorical_accuracy: 0.9266\n",
      "Epoch 62/100\n",
      "1875/1875 [==============================] - 2s 907us/step - loss: 0.1912 - sparse_categorical_accuracy: 0.9275\n",
      "Epoch 63/100\n",
      "1875/1875 [==============================] - 2s 945us/step - loss: 0.1955 - sparse_categorical_accuracy: 0.9258\n",
      "Epoch 64/100\n",
      "1875/1875 [==============================] - 2s 884us/step - loss: 0.1913 - sparse_categorical_accuracy: 0.9285\n",
      "Epoch 65/100\n",
      "1875/1875 [==============================] - 2s 871us/step - loss: 0.1932 - sparse_categorical_accuracy: 0.9281\n",
      "Epoch 66/100\n"
     ]
    },
    {
     "name": "stdout",
     "output_type": "stream",
     "text": [
      "1875/1875 [==============================] - 2s 836us/step - loss: 0.1882 - sparse_categorical_accuracy: 0.9295\n",
      "Epoch 67/100\n",
      "1875/1875 [==============================] - 2s 837us/step - loss: 0.1902 - sparse_categorical_accuracy: 0.9272\n",
      "Epoch 68/100\n",
      "1875/1875 [==============================] - 2s 870us/step - loss: 0.1889 - sparse_categorical_accuracy: 0.9285\n",
      "Epoch 69/100\n",
      "1875/1875 [==============================] - 2s 876us/step - loss: 0.1889 - sparse_categorical_accuracy: 0.9289\n",
      "Epoch 70/100\n",
      "1875/1875 [==============================] - 2s 899us/step - loss: 0.1843 - sparse_categorical_accuracy: 0.9292\n",
      "Epoch 71/100\n",
      "1875/1875 [==============================] - 2s 853us/step - loss: 0.1868 - sparse_categorical_accuracy: 0.9278\n",
      "Epoch 72/100\n",
      "1875/1875 [==============================] - 2s 839us/step - loss: 0.1853 - sparse_categorical_accuracy: 0.9304\n",
      "Epoch 73/100\n",
      "1875/1875 [==============================] - 2s 891us/step - loss: 0.1845 - sparse_categorical_accuracy: 0.9309\n",
      "Epoch 74/100\n",
      "1875/1875 [==============================] - 2s 873us/step - loss: 0.1817 - sparse_categorical_accuracy: 0.9301\n",
      "Epoch 75/100\n",
      "1875/1875 [==============================] - 2s 851us/step - loss: 0.1833 - sparse_categorical_accuracy: 0.9304\n",
      "Epoch 76/100\n",
      "1875/1875 [==============================] - 2s 894us/step - loss: 0.1787 - sparse_categorical_accuracy: 0.9318\n",
      "Epoch 77/100\n",
      "1875/1875 [==============================] - 2s 870us/step - loss: 0.1803 - sparse_categorical_accuracy: 0.9316\n",
      "Epoch 78/100\n",
      "1875/1875 [==============================] - 2s 898us/step - loss: 0.1855 - sparse_categorical_accuracy: 0.9316\n",
      "Epoch 79/100\n",
      "1875/1875 [==============================] - 2s 864us/step - loss: 0.1810 - sparse_categorical_accuracy: 0.9317\n",
      "Epoch 80/100\n",
      "1875/1875 [==============================] - 2s 880us/step - loss: 0.1803 - sparse_categorical_accuracy: 0.9328\n",
      "Epoch 81/100\n",
      "1875/1875 [==============================] - 2s 875us/step - loss: 0.1751 - sparse_categorical_accuracy: 0.9341\n",
      "Epoch 82/100\n",
      "1875/1875 [==============================] - 2s 856us/step - loss: 0.1795 - sparse_categorical_accuracy: 0.9316\n",
      "Epoch 83/100\n",
      "1875/1875 [==============================] - 2s 861us/step - loss: 0.1768 - sparse_categorical_accuracy: 0.9333\n",
      "Epoch 84/100\n",
      "1875/1875 [==============================] - 2s 875us/step - loss: 0.1767 - sparse_categorical_accuracy: 0.9324\n",
      "Epoch 85/100\n",
      "1875/1875 [==============================] - 2s 884us/step - loss: 0.1750 - sparse_categorical_accuracy: 0.9341\n",
      "Epoch 86/100\n",
      "1875/1875 [==============================] - 2s 870us/step - loss: 0.1775 - sparse_categorical_accuracy: 0.9341\n",
      "Epoch 87/100\n",
      "1875/1875 [==============================] - 2s 885us/step - loss: 0.1786 - sparse_categorical_accuracy: 0.9320\n",
      "Epoch 88/100\n",
      "1875/1875 [==============================] - 2s 890us/step - loss: 0.1753 - sparse_categorical_accuracy: 0.9337\n",
      "Epoch 89/100\n",
      "1875/1875 [==============================] - 2s 852us/step - loss: 0.1756 - sparse_categorical_accuracy: 0.9344\n",
      "Epoch 90/100\n",
      "1875/1875 [==============================] - 2s 927us/step - loss: 0.1711 - sparse_categorical_accuracy: 0.9362\n",
      "Epoch 91/100\n",
      "1875/1875 [==============================] - 2s 867us/step - loss: 0.1716 - sparse_categorical_accuracy: 0.9341\n",
      "Epoch 92/100\n",
      "1875/1875 [==============================] - 2s 860us/step - loss: 0.1713 - sparse_categorical_accuracy: 0.9345\n",
      "Epoch 93/100\n",
      "1875/1875 [==============================] - 2s 864us/step - loss: 0.1706 - sparse_categorical_accuracy: 0.9350\n",
      "Epoch 94/100\n",
      "1875/1875 [==============================] - 2s 834us/step - loss: 0.1693 - sparse_categorical_accuracy: 0.9358\n",
      "Epoch 95/100\n",
      "1875/1875 [==============================] - 2s 829us/step - loss: 0.1710 - sparse_categorical_accuracy: 0.9356\n",
      "Epoch 96/100\n",
      "1875/1875 [==============================] - 2s 849us/step - loss: 0.1667 - sparse_categorical_accuracy: 0.9356\n",
      "Epoch 97/100\n",
      "1875/1875 [==============================] - 2s 834us/step - loss: 0.1704 - sparse_categorical_accuracy: 0.9360\n",
      "Epoch 98/100\n",
      "1875/1875 [==============================] - 2s 841us/step - loss: 0.1693 - sparse_categorical_accuracy: 0.9358\n",
      "Epoch 99/100\n",
      "1875/1875 [==============================] - 2s 867us/step - loss: 0.1685 - sparse_categorical_accuracy: 0.9379\n",
      "Epoch 100/100\n",
      "1875/1875 [==============================] - 2s 849us/step - loss: 0.1678 - sparse_categorical_accuracy: 0.9369\n"
     ]
    },
    {
     "data": {
      "text/plain": [
       "<tensorflow.python.keras.callbacks.History at 0x22853c5b7f0>"
      ]
     },
     "execution_count": 63,
     "metadata": {},
     "output_type": "execute_result"
    }
   ],
   "source": [
    "model.fit(X_train, y_train, epochs=100)"
   ]
  },
  {
   "cell_type": "code",
   "execution_count": 64,
   "metadata": {},
   "outputs": [
    {
     "name": "stdout",
     "output_type": "stream",
     "text": [
      "313/313 [==============================] - 0s 505us/step - loss: 0.4112 - sparse_categorical_accuracy: 0.8903\n"
     ]
    }
   ],
   "source": [
    "test_loss, test_accuracy = model.evaluate(X_test, y_test)"
   ]
  },
  {
   "cell_type": "code",
   "execution_count": 65,
   "metadata": {},
   "outputs": [
    {
     "name": "stdout",
     "output_type": "stream",
     "text": [
      "Test accuracy: 0.8902999758720398\n"
     ]
    }
   ],
   "source": [
    "print(f\"Test accuracy: {test_accuracy}\")"
   ]
  },
  {
   "cell_type": "code",
   "execution_count": 66,
   "metadata": {},
   "outputs": [
    {
     "data": {
      "text/plain": [
       "0.41121992468833923"
      ]
     },
     "execution_count": 66,
     "metadata": {},
     "output_type": "execute_result"
    }
   ],
   "source": [
    "test_loss"
   ]
  },
  {
   "cell_type": "code",
   "execution_count": 67,
   "metadata": {},
   "outputs": [],
   "source": [
    "y_hat = model.predict(X_test)\n",
    "y_hat = np.array([np.argmax(y) for y in y_hat])"
   ]
  },
  {
   "cell_type": "code",
   "execution_count": 68,
   "metadata": {},
   "outputs": [
    {
     "data": {
      "text/plain": [
       "array([9, 2, 1, ..., 8, 1, 5], dtype=int64)"
      ]
     },
     "execution_count": 68,
     "metadata": {},
     "output_type": "execute_result"
    }
   ],
   "source": [
    "y_hat"
   ]
  },
  {
   "cell_type": "code",
   "execution_count": 69,
   "metadata": {},
   "outputs": [
    {
     "data": {
      "text/plain": [
       "array([9, 2, 1, ..., 8, 1, 5], dtype=uint8)"
      ]
     },
     "execution_count": 69,
     "metadata": {},
     "output_type": "execute_result"
    }
   ],
   "source": [
    "y_test"
   ]
  }
 ],
 "metadata": {
  "kernelspec": {
   "display_name": "Python 3",
   "language": "python",
   "name": "python3"
  },
  "language_info": {
   "codemirror_mode": {
    "name": "ipython",
    "version": 3
   },
   "file_extension": ".py",
   "mimetype": "text/x-python",
   "name": "python",
   "nbconvert_exporter": "python",
   "pygments_lexer": "ipython3",
   "version": "3.8.3"
  }
 },
 "nbformat": 4,
 "nbformat_minor": 4
}

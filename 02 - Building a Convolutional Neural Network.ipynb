{
 "cells": [
  {
   "cell_type": "code",
   "execution_count": 1,
   "metadata": {},
   "outputs": [
    {
     "data": {
      "text/plain": [
       "'2.2.0'"
      ]
     },
     "execution_count": 1,
     "metadata": {},
     "output_type": "execute_result"
    }
   ],
   "source": [
    "import tensorflow as tf\n",
    "import matplotlib.pyplot as plt\n",
    "\n",
    "from tensorflow.keras.datasets import cifar10\n",
    "%matplotlib inline\n",
    "tf.__version__"
   ]
  },
  {
   "cell_type": "code",
   "execution_count": 2,
   "metadata": {},
   "outputs": [],
   "source": [
    "#Cifar10\n",
    "class_names = ['airplane', 'automobile', 'bird', 'cat', 'deer', 'dog', 'frog', 'horse', 'ship', 'truck']"
   ]
  },
  {
   "cell_type": "code",
   "execution_count": 3,
   "metadata": {},
   "outputs": [],
   "source": [
    "(X_train, y_train), (X_test, y_test) = cifar10.load_data()"
   ]
  },
  {
   "cell_type": "code",
   "execution_count": 4,
   "metadata": {},
   "outputs": [
    {
     "data": {
      "text/plain": [
       "(50000, 32, 32, 3)"
      ]
     },
     "execution_count": 4,
     "metadata": {},
     "output_type": "execute_result"
    }
   ],
   "source": [
    "X_train = X_train/255.0\n",
    "X_train.shape"
   ]
  },
  {
   "cell_type": "code",
   "execution_count": 5,
   "metadata": {},
   "outputs": [],
   "source": [
    "X_test = X_test/255.0"
   ]
  },
  {
   "cell_type": "code",
   "execution_count": 6,
   "metadata": {},
   "outputs": [
    {
     "data": {
      "text/plain": [
       "<matplotlib.image.AxesImage at 0x1b412b294c0>"
      ]
     },
     "execution_count": 6,
     "metadata": {},
     "output_type": "execute_result"
    },
    {
     "data": {
      "image/png": "[encoded data removed]",
      "text/plain": [
       "<Figure size 432x288 with 1 Axes>"
      ]
     },
     "metadata": {
      "needs_background": "light"
     },
     "output_type": "display_data"
    }
   ],
   "source": [
    "plt.imshow(X_test[10])"
   ]
  },
  {
   "cell_type": "code",
   "execution_count": 7,
   "metadata": {},
   "outputs": [],
   "source": [
    "from tensorflow.keras.models import Sequential\n",
    "from tensorflow.keras.layers import Conv2D, MaxPool2D, Flatten, Dense, Dropout"
   ]
  },
  {
   "cell_type": "code",
   "execution_count": 8,
   "metadata": {},
   "outputs": [
    {
     "name": "stdout",
     "output_type": "stream",
     "text": [
      "Model: \"sequential\"\n",
      "_________________________________________________________________\n",
      "Layer (type)                 Output Shape              Param #   \n",
      "=================================================================\n",
      "conv2d (Conv2D)              (None, 32, 32, 32)        896       \n",
      "_________________________________________________________________\n",
      "conv2d_1 (Conv2D)            (None, 32, 32, 32)        9248      \n",
      "_________________________________________________________________\n",
      "max_pooling2d (MaxPooling2D) (None, 16, 16, 32)        0         \n",
      "_________________________________________________________________\n",
      "conv2d_2 (Conv2D)            (None, 16, 16, 64)        18496     \n",
      "_________________________________________________________________\n",
      "conv2d_3 (Conv2D)            (None, 16, 16, 64)        36928     \n",
      "_________________________________________________________________\n",
      "max_pooling2d_1 (MaxPooling2 (None, 8, 8, 64)          0         \n",
      "_________________________________________________________________\n",
      "flatten (Flatten)            (None, 4096)              0         \n",
      "_________________________________________________________________\n",
      "dense (Dense)                (None, 128)               524416    \n",
      "_________________________________________________________________\n",
      "dropout (Dropout)            (None, 128)               0         \n",
      "_________________________________________________________________\n",
      "dense_1 (Dense)              (None, 128)               16512     \n",
      "_________________________________________________________________\n",
      "dropout_1 (Dropout)          (None, 128)               0         \n",
      "_________________________________________________________________\n",
      "dense_2 (Dense)              (None, 10)                1290      \n",
      "=================================================================\n",
      "Total params: 607,786\n",
      "Trainable params: 607,786\n",
      "Non-trainable params: 0\n",
      "_________________________________________________________________\n"
     ]
    }
   ],
   "source": [
    "model = Sequential()\n",
    "model.add(Conv2D(filters=32, kernel_size=3, padding=\"same\", activation=\"relu\", input_shape=[32, 32, 3]))\n",
    "model.add(Conv2D(filters=32, kernel_size=3, padding=\"same\", activation=\"relu\"))\n",
    "model.add(MaxPool2D(pool_size=2, strides=2, padding=\"valid\"))\n",
    "model.add(Conv2D(filters=64, kernel_size=3, padding=\"same\", activation=\"relu\"))\n",
    "model.add(Conv2D(filters=64, kernel_size=3, padding=\"same\", activation=\"relu\"))\n",
    "model.add(MaxPool2D(pool_size=2, strides=2, padding=\"valid\"))\n",
    "model.add(Flatten())\n",
    "model.add(Dense(units=128, activation=\"relu\"))\n",
    "model.add(Dropout(0.2))\n",
    "model.add(Dense(units=128, activation=\"relu\"))\n",
    "model.add(Dropout(0.2))\n",
    "model.add(Dense(units=10, activation=\"softmax\"))\n",
    "model.compile(loss=\"sparse_categorical_crossentropy\", optimizer=\"adam\", metrics=[\"sparse_categorical_accuracy\"])\n",
    "model.summary()"
   ]
  },
  {
   "cell_type": "code",
   "execution_count": 9,
   "metadata": {},
   "outputs": [
    {
     "name": "stdout",
     "output_type": "stream",
     "text": [
      "Epoch 1/20\n",
      "1563/1563 [==============================] - 84s 54ms/step - loss: 1.5620 - sparse_categorical_accuracy: 0.4245\n",
      "Epoch 2/20\n",
      "1563/1563 [==============================] - 85s 54ms/step - loss: 1.1104 - sparse_categorical_accuracy: 0.6050\n",
      "Epoch 3/20\n",
      "1563/1563 [==============================] - 85s 54ms/step - loss: 0.9332 - sparse_categorical_accuracy: 0.6738\n",
      "Epoch 4/20\n",
      "1563/1563 [==============================] - 84s 54ms/step - loss: 0.8155 - sparse_categorical_accuracy: 0.7143\n",
      "Epoch 5/20\n",
      "1563/1563 [==============================] - 84s 54ms/step - loss: 0.7319 - sparse_categorical_accuracy: 0.7441\n",
      "Epoch 6/20\n",
      "1563/1563 [==============================] - 84s 54ms/step - loss: 0.6516 - sparse_categorical_accuracy: 0.7720\n",
      "Epoch 7/20\n",
      "1563/1563 [==============================] - 84s 54ms/step - loss: 0.5863 - sparse_categorical_accuracy: 0.7933\n",
      "Epoch 8/20\n",
      "1563/1563 [==============================] - 83s 53ms/step - loss: 0.5397 - sparse_categorical_accuracy: 0.8117\n",
      "Epoch 9/20\n",
      "1563/1563 [==============================] - 84s 53ms/step - loss: 0.4893 - sparse_categorical_accuracy: 0.8255\n",
      "Epoch 10/20\n",
      "1563/1563 [==============================] - 84s 54ms/step - loss: 0.4441 - sparse_categorical_accuracy: 0.8421\n",
      "Epoch 11/20\n",
      "1563/1563 [==============================] - 83s 53ms/step - loss: 0.4099 - sparse_categorical_accuracy: 0.8553\n",
      "Epoch 12/20\n",
      "1563/1563 [==============================] - 83s 53ms/step - loss: 0.3810 - sparse_categorical_accuracy: 0.8659\n",
      "Epoch 13/20\n",
      "1563/1563 [==============================] - 82s 53ms/step - loss: 0.3549 - sparse_categorical_accuracy: 0.8761\n",
      "Epoch 14/20\n",
      "1563/1563 [==============================] - 82s 52ms/step - loss: 0.3378 - sparse_categorical_accuracy: 0.8811\n",
      "Epoch 15/20\n",
      "1563/1563 [==============================] - 82s 52ms/step - loss: 0.3191 - sparse_categorical_accuracy: 0.8873\n",
      "Epoch 16/20\n",
      "1563/1563 [==============================] - 82s 52ms/step - loss: 0.3035 - sparse_categorical_accuracy: 0.8928\n",
      "Epoch 17/20\n",
      "1563/1563 [==============================] - 82s 52ms/step - loss: 0.2870 - sparse_categorical_accuracy: 0.8988\n",
      "Epoch 18/20\n",
      "1563/1563 [==============================] - 82s 52ms/step - loss: 0.2711 - sparse_categorical_accuracy: 0.9055\n",
      "Epoch 19/20\n",
      "1563/1563 [==============================] - 81s 52ms/step - loss: 0.2623 - sparse_categorical_accuracy: 0.9091\n",
      "Epoch 20/20\n",
      "1563/1563 [==============================] - 82s 53ms/step - loss: 0.2472 - sparse_categorical_accuracy: 0.9155\n",
      "Wall time: 27min 41s\n"
     ]
    },
    {
     "data": {
      "text/plain": [
       "<tensorflow.python.keras.callbacks.History at 0x1b42f9537f0>"
      ]
     },
     "execution_count": 9,
     "metadata": {},
     "output_type": "execute_result"
    }
   ],
   "source": [
    "%%time\n",
    "\n",
    "model.fit(X_train, y_train, epochs=20)"
   ]
  },
  {
   "cell_type": "code",
   "execution_count": 10,
   "metadata": {},
   "outputs": [
    {
     "name": "stdout",
     "output_type": "stream",
     "text": [
      "313/313 [==============================] - 3s 10ms/step - loss: 1.1334 - sparse_categorical_accuracy: 0.7379\n",
      "Test_accuracy:  0.7379000186920166\n",
      "Test_loss: 1.1334234476089478\n"
     ]
    }
   ],
   "source": [
    "test_loss, test_accuracy = model.evaluate(X_test, y_test)\n",
    "print(\"Test_accuracy: \", test_accuracy)\n",
    "print(\"Test_loss:\", test_loss)"
   ]
  }
 ],
 "metadata": {
  "kernelspec": {
   "display_name": "Python 3",
   "language": "python",
   "name": "python3"
  },
  "language_info": {
   "codemirror_mode": {
    "name": "ipython",
    "version": 3
   },
   "file_extension": ".py",
   "mimetype": "text/x-python",
   "name": "python",
   "nbconvert_exporter": "python",
   "pygments_lexer": "ipython3",
   "version": "3.8.3"
  }
 },
 "nbformat": 4,
 "nbformat_minor": 4
}
